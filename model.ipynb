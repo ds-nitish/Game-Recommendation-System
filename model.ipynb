{
 "cells": [
  {
   "cell_type": "code",
   "execution_count": 2,
   "metadata": {},
   "outputs": [],
   "source": [
    "import pandas as pd\n",
    "import numpy as np"
   ]
  },
  {
   "cell_type": "code",
   "execution_count": 3,
   "metadata": {},
   "outputs": [],
   "source": [
    "data = pd.read_csv('backloggd_games.csv')\n",
    "links = pd.read_csv('data_links.csv')"
   ]
  },
  {
   "cell_type": "code",
   "execution_count": 4,
   "metadata": {},
   "outputs": [
    {
     "data": {
      "text/plain": [
       "(60000, 14)"
      ]
     },
     "execution_count": 4,
     "metadata": {},
     "output_type": "execute_result"
    }
   ],
   "source": [
    "data.shape"
   ]
  },
  {
   "cell_type": "code",
   "execution_count": 5,
   "metadata": {},
   "outputs": [
    {
     "data": {
      "text/plain": [
       "(102910, 4)"
      ]
     },
     "execution_count": 5,
     "metadata": {},
     "output_type": "execute_result"
    }
   ],
   "source": [
    "links.shape"
   ]
  },
  {
   "cell_type": "code",
   "execution_count": 6,
   "metadata": {},
   "outputs": [
    {
     "data": {
      "text/html": [
       "<div>\n",
       "<style scoped>\n",
       "    .dataframe tbody tr th:only-of-type {\n",
       "        vertical-align: middle;\n",
       "    }\n",
       "\n",
       "    .dataframe tbody tr th {\n",
       "        vertical-align: top;\n",
       "    }\n",
       "\n",
       "    .dataframe thead th {\n",
       "        text-align: right;\n",
       "    }\n",
       "</style>\n",
       "<table border=\"1\" class=\"dataframe\">\n",
       "  <thead>\n",
       "    <tr style=\"text-align: right;\">\n",
       "      <th></th>\n",
       "      <th>Unnamed: 0</th>\n",
       "      <th>Title</th>\n",
       "      <th>Release_Date</th>\n",
       "      <th>Developers</th>\n",
       "      <th>Summary</th>\n",
       "      <th>Platforms</th>\n",
       "      <th>Genres</th>\n",
       "      <th>Rating</th>\n",
       "      <th>Plays</th>\n",
       "      <th>Playing</th>\n",
       "      <th>Backlogs</th>\n",
       "      <th>Wishlist</th>\n",
       "      <th>Lists</th>\n",
       "      <th>Reviews</th>\n",
       "    </tr>\n",
       "  </thead>\n",
       "  <tbody>\n",
       "    <tr>\n",
       "      <th>0</th>\n",
       "      <td>0</td>\n",
       "      <td>Elden Ring</td>\n",
       "      <td>Feb 25, 2022</td>\n",
       "      <td>['FromSoftware', 'Bandai Namco Entertainment']</td>\n",
       "      <td>Elden Ring is a fantasy, action and open world...</td>\n",
       "      <td>['Windows PC', 'PlayStation 4', 'Xbox One', 'P...</td>\n",
       "      <td>['Adventure', 'RPG']</td>\n",
       "      <td>4.5</td>\n",
       "      <td>21K</td>\n",
       "      <td>4.1K</td>\n",
       "      <td>5.6K</td>\n",
       "      <td>5.5K</td>\n",
       "      <td>4.6K</td>\n",
       "      <td>3K</td>\n",
       "    </tr>\n",
       "    <tr>\n",
       "      <th>1</th>\n",
       "      <td>1</td>\n",
       "      <td>The Legend of Zelda: Breath of the Wild</td>\n",
       "      <td>Mar 03, 2017</td>\n",
       "      <td>['Nintendo', 'Nintendo EPD Production Group No...</td>\n",
       "      <td>The Legend of Zelda: Breath of the Wild is the...</td>\n",
       "      <td>['Wii U', 'Nintendo Switch']</td>\n",
       "      <td>['Adventure', 'Puzzle']</td>\n",
       "      <td>4.4</td>\n",
       "      <td>35K</td>\n",
       "      <td>3.1K</td>\n",
       "      <td>5.6K</td>\n",
       "      <td>3K</td>\n",
       "      <td>5.1K</td>\n",
       "      <td>3K</td>\n",
       "    </tr>\n",
       "    <tr>\n",
       "      <th>2</th>\n",
       "      <td>2</td>\n",
       "      <td>Hades</td>\n",
       "      <td>Dec 07, 2018</td>\n",
       "      <td>['Supergiant Games']</td>\n",
       "      <td>A rogue-lite hack and slash dungeon crawler in...</td>\n",
       "      <td>['Windows PC', 'Mac', 'PlayStation 4', 'Xbox O...</td>\n",
       "      <td>['Adventure', 'Brawler', 'Indie', 'RPG']</td>\n",
       "      <td>4.3</td>\n",
       "      <td>25K</td>\n",
       "      <td>3.5K</td>\n",
       "      <td>7.3K</td>\n",
       "      <td>4K</td>\n",
       "      <td>3.2K</td>\n",
       "      <td>2.1K</td>\n",
       "    </tr>\n",
       "    <tr>\n",
       "      <th>3</th>\n",
       "      <td>3</td>\n",
       "      <td>Hollow Knight</td>\n",
       "      <td>Feb 24, 2017</td>\n",
       "      <td>['Team Cherry']</td>\n",
       "      <td>A 2D metroidvania with an emphasis on close co...</td>\n",
       "      <td>['Windows PC', 'Mac', 'Linux', 'Nintendo Switch']</td>\n",
       "      <td>['Adventure', 'Indie', 'Platform']</td>\n",
       "      <td>4.4</td>\n",
       "      <td>25K</td>\n",
       "      <td>2.7K</td>\n",
       "      <td>9.6K</td>\n",
       "      <td>2.6K</td>\n",
       "      <td>3.4K</td>\n",
       "      <td>2.1K</td>\n",
       "    </tr>\n",
       "    <tr>\n",
       "      <th>4</th>\n",
       "      <td>4</td>\n",
       "      <td>Undertale</td>\n",
       "      <td>Sep 15, 2015</td>\n",
       "      <td>['tobyfox', '8-4']</td>\n",
       "      <td>A small child falls into the Underground, wher...</td>\n",
       "      <td>['Windows PC', 'Mac', 'Linux', 'PlayStation 4'...</td>\n",
       "      <td>['Adventure', 'Indie', 'RPG', 'Turn Based Stra...</td>\n",
       "      <td>4.2</td>\n",
       "      <td>32K</td>\n",
       "      <td>728</td>\n",
       "      <td>5.7K</td>\n",
       "      <td>2.1K</td>\n",
       "      <td>3.9K</td>\n",
       "      <td>2.5K</td>\n",
       "    </tr>\n",
       "    <tr>\n",
       "      <th>5</th>\n",
       "      <td>5</td>\n",
       "      <td>Minecraft</td>\n",
       "      <td>Nov 18, 2011</td>\n",
       "      <td>['Mojang Studios']</td>\n",
       "      <td>Minecraft focuses on allowing the player to ex...</td>\n",
       "      <td>['Windows PC', 'Mac', 'Linux']</td>\n",
       "      <td>['Adventure', 'Simulator']</td>\n",
       "      <td>4.3</td>\n",
       "      <td>38K</td>\n",
       "      <td>2.1K</td>\n",
       "      <td>1.3K</td>\n",
       "      <td>265</td>\n",
       "      <td>2.6K</td>\n",
       "      <td>2.7K</td>\n",
       "    </tr>\n",
       "    <tr>\n",
       "      <th>6</th>\n",
       "      <td>6</td>\n",
       "      <td>Omori</td>\n",
       "      <td>Dec 25, 2020</td>\n",
       "      <td>['OMOCAT', 'PLAYISM']</td>\n",
       "      <td>A turn-based surreal horror RPG in which a chi...</td>\n",
       "      <td>['Windows PC', 'Mac', 'PlayStation 4', 'Xbox O...</td>\n",
       "      <td>['Adventure', 'Indie', 'RPG', 'Turn Based Stra...</td>\n",
       "      <td>4.1</td>\n",
       "      <td>8.7K</td>\n",
       "      <td>1.2K</td>\n",
       "      <td>5.3K</td>\n",
       "      <td>4.3K</td>\n",
       "      <td>1.8K</td>\n",
       "      <td>1.4K</td>\n",
       "    </tr>\n",
       "    <tr>\n",
       "      <th>7</th>\n",
       "      <td>7</td>\n",
       "      <td>The Legend of Zelda: Tears of the Kingdom</td>\n",
       "      <td>May 12, 2023</td>\n",
       "      <td>['Nintendo']</td>\n",
       "      <td>The Legend of Zelda: Tears of the Kingdom is t...</td>\n",
       "      <td>['Nintendo Switch']</td>\n",
       "      <td>['Adventure']</td>\n",
       "      <td>4.6</td>\n",
       "      <td>4.3K</td>\n",
       "      <td>4.6K</td>\n",
       "      <td>3K</td>\n",
       "      <td>5.2K</td>\n",
       "      <td>1.9K</td>\n",
       "      <td>1.1K</td>\n",
       "    </tr>\n",
       "    <tr>\n",
       "      <th>8</th>\n",
       "      <td>8</td>\n",
       "      <td>Resident Evil 4</td>\n",
       "      <td>Mar 24, 2023</td>\n",
       "      <td>['Capcom', 'Capcom Development Division 1']</td>\n",
       "      <td>Resident Evil 4 is a remake of the 2005 origin...</td>\n",
       "      <td>['Windows PC', 'PlayStation 4', 'PlayStation 5...</td>\n",
       "      <td>['Adventure', 'Puzzle', 'Shooter']</td>\n",
       "      <td>4.6</td>\n",
       "      <td>6.1K</td>\n",
       "      <td>908</td>\n",
       "      <td>2.1K</td>\n",
       "      <td>3.5K</td>\n",
       "      <td>1.9K</td>\n",
       "      <td>1.4K</td>\n",
       "    </tr>\n",
       "    <tr>\n",
       "      <th>9</th>\n",
       "      <td>9</td>\n",
       "      <td>NieR: Automata</td>\n",
       "      <td>Feb 23, 2017</td>\n",
       "      <td>['PlatinumGames', 'Square Enix']</td>\n",
       "      <td>NieR: Automata tells the story of androids 2B,...</td>\n",
       "      <td>['Windows PC', 'PlayStation 4']</td>\n",
       "      <td>['Brawler', 'RPG']</td>\n",
       "      <td>4.3</td>\n",
       "      <td>20K</td>\n",
       "      <td>1.3K</td>\n",
       "      <td>7.2K</td>\n",
       "      <td>4K</td>\n",
       "      <td>3.2K</td>\n",
       "      <td>1.4K</td>\n",
       "    </tr>\n",
       "  </tbody>\n",
       "</table>\n",
       "</div>"
      ],
      "text/plain": [
       "   Unnamed: 0                                      Title  Release_Date  \\\n",
       "0           0                                 Elden Ring  Feb 25, 2022   \n",
       "1           1    The Legend of Zelda: Breath of the Wild  Mar 03, 2017   \n",
       "2           2                                      Hades  Dec 07, 2018   \n",
       "3           3                              Hollow Knight  Feb 24, 2017   \n",
       "4           4                                  Undertale  Sep 15, 2015   \n",
       "5           5                                  Minecraft  Nov 18, 2011   \n",
       "6           6                                      Omori  Dec 25, 2020   \n",
       "7           7  The Legend of Zelda: Tears of the Kingdom  May 12, 2023   \n",
       "8           8                            Resident Evil 4  Mar 24, 2023   \n",
       "9           9                             NieR: Automata  Feb 23, 2017   \n",
       "\n",
       "                                          Developers  \\\n",
       "0     ['FromSoftware', 'Bandai Namco Entertainment']   \n",
       "1  ['Nintendo', 'Nintendo EPD Production Group No...   \n",
       "2                               ['Supergiant Games']   \n",
       "3                                    ['Team Cherry']   \n",
       "4                                 ['tobyfox', '8-4']   \n",
       "5                                 ['Mojang Studios']   \n",
       "6                              ['OMOCAT', 'PLAYISM']   \n",
       "7                                       ['Nintendo']   \n",
       "8        ['Capcom', 'Capcom Development Division 1']   \n",
       "9                   ['PlatinumGames', 'Square Enix']   \n",
       "\n",
       "                                             Summary  \\\n",
       "0  Elden Ring is a fantasy, action and open world...   \n",
       "1  The Legend of Zelda: Breath of the Wild is the...   \n",
       "2  A rogue-lite hack and slash dungeon crawler in...   \n",
       "3  A 2D metroidvania with an emphasis on close co...   \n",
       "4  A small child falls into the Underground, wher...   \n",
       "5  Minecraft focuses on allowing the player to ex...   \n",
       "6  A turn-based surreal horror RPG in which a chi...   \n",
       "7  The Legend of Zelda: Tears of the Kingdom is t...   \n",
       "8  Resident Evil 4 is a remake of the 2005 origin...   \n",
       "9  NieR: Automata tells the story of androids 2B,...   \n",
       "\n",
       "                                           Platforms  \\\n",
       "0  ['Windows PC', 'PlayStation 4', 'Xbox One', 'P...   \n",
       "1                       ['Wii U', 'Nintendo Switch']   \n",
       "2  ['Windows PC', 'Mac', 'PlayStation 4', 'Xbox O...   \n",
       "3  ['Windows PC', 'Mac', 'Linux', 'Nintendo Switch']   \n",
       "4  ['Windows PC', 'Mac', 'Linux', 'PlayStation 4'...   \n",
       "5                     ['Windows PC', 'Mac', 'Linux']   \n",
       "6  ['Windows PC', 'Mac', 'PlayStation 4', 'Xbox O...   \n",
       "7                                ['Nintendo Switch']   \n",
       "8  ['Windows PC', 'PlayStation 4', 'PlayStation 5...   \n",
       "9                    ['Windows PC', 'PlayStation 4']   \n",
       "\n",
       "                                              Genres  Rating Plays Playing  \\\n",
       "0                               ['Adventure', 'RPG']     4.5   21K    4.1K   \n",
       "1                            ['Adventure', 'Puzzle']     4.4   35K    3.1K   \n",
       "2           ['Adventure', 'Brawler', 'Indie', 'RPG']     4.3   25K    3.5K   \n",
       "3                 ['Adventure', 'Indie', 'Platform']     4.4   25K    2.7K   \n",
       "4  ['Adventure', 'Indie', 'RPG', 'Turn Based Stra...     4.2   32K     728   \n",
       "5                         ['Adventure', 'Simulator']     4.3   38K    2.1K   \n",
       "6  ['Adventure', 'Indie', 'RPG', 'Turn Based Stra...     4.1  8.7K    1.2K   \n",
       "7                                      ['Adventure']     4.6  4.3K    4.6K   \n",
       "8                 ['Adventure', 'Puzzle', 'Shooter']     4.6  6.1K     908   \n",
       "9                                 ['Brawler', 'RPG']     4.3   20K    1.3K   \n",
       "\n",
       "  Backlogs Wishlist Lists Reviews  \n",
       "0     5.6K     5.5K  4.6K      3K  \n",
       "1     5.6K       3K  5.1K      3K  \n",
       "2     7.3K       4K  3.2K    2.1K  \n",
       "3     9.6K     2.6K  3.4K    2.1K  \n",
       "4     5.7K     2.1K  3.9K    2.5K  \n",
       "5     1.3K      265  2.6K    2.7K  \n",
       "6     5.3K     4.3K  1.8K    1.4K  \n",
       "7       3K     5.2K  1.9K    1.1K  \n",
       "8     2.1K     3.5K  1.9K    1.4K  \n",
       "9     7.2K       4K  3.2K    1.4K  "
      ]
     },
     "execution_count": 6,
     "metadata": {},
     "output_type": "execute_result"
    }
   ],
   "source": [
    "data.head(10)"
   ]
  },
  {
   "cell_type": "code",
   "execution_count": 7,
   "metadata": {},
   "outputs": [],
   "source": [
    "data['Plays'] = data['Plays'].str.replace('K','000')\n",
    "data['Plays'] = data['Plays'].astype(float)"
   ]
  },
  {
   "cell_type": "code",
   "execution_count": 8,
   "metadata": {},
   "outputs": [],
   "source": [
    "data['Playing'] = data['Playing'].str.replace('K','00').str.replace('.','')\n",
    "data['Playing'] = data['Playing'].astype(float)"
   ]
  },
  {
   "cell_type": "code",
   "execution_count": 9,
   "metadata": {},
   "outputs": [],
   "source": [
    "data['Backlogs'] = data['Backlogs'].str.replace('K','00').str.replace('.','')\n",
    "data['Backlogs'] = data['Backlogs'].astype(float)\n",
    "data['Wishlist'] = data['Wishlist'].str.replace('K','00').str.replace('.','')\n",
    "data['Wishlist'] = data['Wishlist'].astype(float)\n",
    "data['Lists'] = data['Lists'].str.replace('K','00').str.replace('.','')\n",
    "data['Lists'] = data['Lists'].astype(float)\n",
    "data['Reviews'] = data['Reviews'].str.replace('K','00').str.replace('.','')\n",
    "data['Reviews'] = data['Reviews'].astype(float)\n"
   ]
  },
  {
   "cell_type": "code",
   "execution_count": 10,
   "metadata": {},
   "outputs": [
    {
     "data": {
      "text/plain": [
       "Unnamed: 0        int64\n",
       "Title            object\n",
       "Release_Date     object\n",
       "Developers       object\n",
       "Summary          object\n",
       "Platforms        object\n",
       "Genres           object\n",
       "Rating          float64\n",
       "Plays           float64\n",
       "Playing         float64\n",
       "Backlogs        float64\n",
       "Wishlist        float64\n",
       "Lists           float64\n",
       "Reviews         float64\n",
       "dtype: object"
      ]
     },
     "execution_count": 10,
     "metadata": {},
     "output_type": "execute_result"
    }
   ],
   "source": [
    "data.dtypes"
   ]
  },
  {
   "cell_type": "code",
   "execution_count": 11,
   "metadata": {},
   "outputs": [],
   "source": [
    "data['Score'] = data['Rating']+data['Plays']+data['Playing']+data[\"Backlogs\"]+data['Wishlist']+data['Lists']+data['Reviews']"
   ]
  },
  {
   "cell_type": "code",
   "execution_count": 12,
   "metadata": {},
   "outputs": [
    {
     "data": {
      "text/html": [
       "<div>\n",
       "<style scoped>\n",
       "    .dataframe tbody tr th:only-of-type {\n",
       "        vertical-align: middle;\n",
       "    }\n",
       "\n",
       "    .dataframe tbody tr th {\n",
       "        vertical-align: top;\n",
       "    }\n",
       "\n",
       "    .dataframe thead th {\n",
       "        text-align: right;\n",
       "    }\n",
       "</style>\n",
       "<table border=\"1\" class=\"dataframe\">\n",
       "  <thead>\n",
       "    <tr style=\"text-align: right;\">\n",
       "      <th></th>\n",
       "      <th>Unnamed: 0</th>\n",
       "      <th>Title</th>\n",
       "      <th>Release_Date</th>\n",
       "      <th>Developers</th>\n",
       "      <th>Summary</th>\n",
       "      <th>Platforms</th>\n",
       "      <th>Genres</th>\n",
       "      <th>Rating</th>\n",
       "      <th>Plays</th>\n",
       "      <th>Playing</th>\n",
       "      <th>Backlogs</th>\n",
       "      <th>Wishlist</th>\n",
       "      <th>Lists</th>\n",
       "      <th>Reviews</th>\n",
       "      <th>Score</th>\n",
       "    </tr>\n",
       "  </thead>\n",
       "  <tbody>\n",
       "    <tr>\n",
       "      <th>0</th>\n",
       "      <td>0</td>\n",
       "      <td>Elden Ring</td>\n",
       "      <td>Feb 25, 2022</td>\n",
       "      <td>['FromSoftware', 'Bandai Namco Entertainment']</td>\n",
       "      <td>Elden Ring is a fantasy, action and open world...</td>\n",
       "      <td>['Windows PC', 'PlayStation 4', 'Xbox One', 'P...</td>\n",
       "      <td>['Adventure', 'RPG']</td>\n",
       "      <td>4.5</td>\n",
       "      <td>21000.0</td>\n",
       "      <td>4100.0</td>\n",
       "      <td>5600.0</td>\n",
       "      <td>5500.0</td>\n",
       "      <td>4600.0</td>\n",
       "      <td>300.0</td>\n",
       "      <td>41104.5</td>\n",
       "    </tr>\n",
       "    <tr>\n",
       "      <th>1</th>\n",
       "      <td>1</td>\n",
       "      <td>The Legend of Zelda: Breath of the Wild</td>\n",
       "      <td>Mar 03, 2017</td>\n",
       "      <td>['Nintendo', 'Nintendo EPD Production Group No...</td>\n",
       "      <td>The Legend of Zelda: Breath of the Wild is the...</td>\n",
       "      <td>['Wii U', 'Nintendo Switch']</td>\n",
       "      <td>['Adventure', 'Puzzle']</td>\n",
       "      <td>4.4</td>\n",
       "      <td>35000.0</td>\n",
       "      <td>3100.0</td>\n",
       "      <td>5600.0</td>\n",
       "      <td>300.0</td>\n",
       "      <td>5100.0</td>\n",
       "      <td>300.0</td>\n",
       "      <td>49404.4</td>\n",
       "    </tr>\n",
       "    <tr>\n",
       "      <th>2</th>\n",
       "      <td>2</td>\n",
       "      <td>Hades</td>\n",
       "      <td>Dec 07, 2018</td>\n",
       "      <td>['Supergiant Games']</td>\n",
       "      <td>A rogue-lite hack and slash dungeon crawler in...</td>\n",
       "      <td>['Windows PC', 'Mac', 'PlayStation 4', 'Xbox O...</td>\n",
       "      <td>['Adventure', 'Brawler', 'Indie', 'RPG']</td>\n",
       "      <td>4.3</td>\n",
       "      <td>25000.0</td>\n",
       "      <td>3500.0</td>\n",
       "      <td>7300.0</td>\n",
       "      <td>400.0</td>\n",
       "      <td>3200.0</td>\n",
       "      <td>2100.0</td>\n",
       "      <td>41504.3</td>\n",
       "    </tr>\n",
       "    <tr>\n",
       "      <th>3</th>\n",
       "      <td>3</td>\n",
       "      <td>Hollow Knight</td>\n",
       "      <td>Feb 24, 2017</td>\n",
       "      <td>['Team Cherry']</td>\n",
       "      <td>A 2D metroidvania with an emphasis on close co...</td>\n",
       "      <td>['Windows PC', 'Mac', 'Linux', 'Nintendo Switch']</td>\n",
       "      <td>['Adventure', 'Indie', 'Platform']</td>\n",
       "      <td>4.4</td>\n",
       "      <td>25000.0</td>\n",
       "      <td>2700.0</td>\n",
       "      <td>9600.0</td>\n",
       "      <td>2600.0</td>\n",
       "      <td>3400.0</td>\n",
       "      <td>2100.0</td>\n",
       "      <td>45404.4</td>\n",
       "    </tr>\n",
       "    <tr>\n",
       "      <th>4</th>\n",
       "      <td>4</td>\n",
       "      <td>Undertale</td>\n",
       "      <td>Sep 15, 2015</td>\n",
       "      <td>['tobyfox', '8-4']</td>\n",
       "      <td>A small child falls into the Underground, wher...</td>\n",
       "      <td>['Windows PC', 'Mac', 'Linux', 'PlayStation 4'...</td>\n",
       "      <td>['Adventure', 'Indie', 'RPG', 'Turn Based Stra...</td>\n",
       "      <td>4.2</td>\n",
       "      <td>32000.0</td>\n",
       "      <td>728.0</td>\n",
       "      <td>5700.0</td>\n",
       "      <td>2100.0</td>\n",
       "      <td>3900.0</td>\n",
       "      <td>2500.0</td>\n",
       "      <td>46932.2</td>\n",
       "    </tr>\n",
       "  </tbody>\n",
       "</table>\n",
       "</div>"
      ],
      "text/plain": [
       "   Unnamed: 0                                    Title  Release_Date  \\\n",
       "0           0                               Elden Ring  Feb 25, 2022   \n",
       "1           1  The Legend of Zelda: Breath of the Wild  Mar 03, 2017   \n",
       "2           2                                    Hades  Dec 07, 2018   \n",
       "3           3                            Hollow Knight  Feb 24, 2017   \n",
       "4           4                                Undertale  Sep 15, 2015   \n",
       "\n",
       "                                          Developers  \\\n",
       "0     ['FromSoftware', 'Bandai Namco Entertainment']   \n",
       "1  ['Nintendo', 'Nintendo EPD Production Group No...   \n",
       "2                               ['Supergiant Games']   \n",
       "3                                    ['Team Cherry']   \n",
       "4                                 ['tobyfox', '8-4']   \n",
       "\n",
       "                                             Summary  \\\n",
       "0  Elden Ring is a fantasy, action and open world...   \n",
       "1  The Legend of Zelda: Breath of the Wild is the...   \n",
       "2  A rogue-lite hack and slash dungeon crawler in...   \n",
       "3  A 2D metroidvania with an emphasis on close co...   \n",
       "4  A small child falls into the Underground, wher...   \n",
       "\n",
       "                                           Platforms  \\\n",
       "0  ['Windows PC', 'PlayStation 4', 'Xbox One', 'P...   \n",
       "1                       ['Wii U', 'Nintendo Switch']   \n",
       "2  ['Windows PC', 'Mac', 'PlayStation 4', 'Xbox O...   \n",
       "3  ['Windows PC', 'Mac', 'Linux', 'Nintendo Switch']   \n",
       "4  ['Windows PC', 'Mac', 'Linux', 'PlayStation 4'...   \n",
       "\n",
       "                                              Genres  Rating    Plays  \\\n",
       "0                               ['Adventure', 'RPG']     4.5  21000.0   \n",
       "1                            ['Adventure', 'Puzzle']     4.4  35000.0   \n",
       "2           ['Adventure', 'Brawler', 'Indie', 'RPG']     4.3  25000.0   \n",
       "3                 ['Adventure', 'Indie', 'Platform']     4.4  25000.0   \n",
       "4  ['Adventure', 'Indie', 'RPG', 'Turn Based Stra...     4.2  32000.0   \n",
       "\n",
       "   Playing  Backlogs  Wishlist   Lists  Reviews    Score  \n",
       "0   4100.0    5600.0    5500.0  4600.0    300.0  41104.5  \n",
       "1   3100.0    5600.0     300.0  5100.0    300.0  49404.4  \n",
       "2   3500.0    7300.0     400.0  3200.0   2100.0  41504.3  \n",
       "3   2700.0    9600.0    2600.0  3400.0   2100.0  45404.4  \n",
       "4    728.0    5700.0    2100.0  3900.0   2500.0  46932.2  "
      ]
     },
     "execution_count": 12,
     "metadata": {},
     "output_type": "execute_result"
    }
   ],
   "source": [
    "data.head()"
   ]
  },
  {
   "cell_type": "code",
   "execution_count": 13,
   "metadata": {},
   "outputs": [],
   "source": [
    "data = data.sort_values(by='Score',ascending=False).iloc[:3800,:]"
   ]
  },
  {
   "cell_type": "code",
   "execution_count": 14,
   "metadata": {},
   "outputs": [],
   "source": [
    "data = data[['Title','Developers','Summary','Platforms','Genres']]"
   ]
  },
  {
   "cell_type": "code",
   "execution_count": 15,
   "metadata": {},
   "outputs": [
    {
     "data": {
      "text/plain": [
       "Title         0\n",
       "Developers    0\n",
       "Summary       0\n",
       "Platforms     0\n",
       "Genres        0\n",
       "dtype: int64"
      ]
     },
     "execution_count": 15,
     "metadata": {},
     "output_type": "execute_result"
    }
   ],
   "source": [
    "data.isna().sum()"
   ]
  },
  {
   "cell_type": "code",
   "execution_count": 16,
   "metadata": {},
   "outputs": [
    {
     "data": {
      "text/plain": [
       "155"
      ]
     },
     "execution_count": 16,
     "metadata": {},
     "output_type": "execute_result"
    }
   ],
   "source": [
    "data.duplicated().sum()"
   ]
  },
  {
   "cell_type": "code",
   "execution_count": 17,
   "metadata": {},
   "outputs": [],
   "source": [
    "data=data.drop_duplicates()\n",
    "data = data.dropna()\n",
    "data = data.reset_index(drop=True)"
   ]
  },
  {
   "cell_type": "code",
   "execution_count": 18,
   "metadata": {},
   "outputs": [
    {
     "data": {
      "text/plain": [
       "(3645, 5)"
      ]
     },
     "execution_count": 18,
     "metadata": {},
     "output_type": "execute_result"
    }
   ],
   "source": [
    "data.shape"
   ]
  },
  {
   "cell_type": "code",
   "execution_count": 19,
   "metadata": {},
   "outputs": [
    {
     "data": {
      "text/plain": [
       "0"
      ]
     },
     "execution_count": 19,
     "metadata": {},
     "output_type": "execute_result"
    }
   ],
   "source": [
    "links.duplicated().sum()"
   ]
  },
  {
   "cell_type": "code",
   "execution_count": 20,
   "metadata": {},
   "outputs": [
    {
     "data": {
      "text/plain": [
       "Index(['Title', 'Developers', 'Summary', 'Platforms', 'Genres', 'Unnamed: 0',\n",
       "       'Img', 'Link'],\n",
       "      dtype='object')"
      ]
     },
     "execution_count": 20,
     "metadata": {},
     "output_type": "execute_result"
    }
   ],
   "source": [
    "df = data.merge(links , on='Title',how='inner')\n",
    "df.head()\n",
    "df.columns"
   ]
  },
  {
   "cell_type": "code",
   "execution_count": 21,
   "metadata": {},
   "outputs": [
    {
     "data": {
      "text/html": [
       "<div>\n",
       "<style scoped>\n",
       "    .dataframe tbody tr th:only-of-type {\n",
       "        vertical-align: middle;\n",
       "    }\n",
       "\n",
       "    .dataframe tbody tr th {\n",
       "        vertical-align: top;\n",
       "    }\n",
       "\n",
       "    .dataframe thead th {\n",
       "        text-align: right;\n",
       "    }\n",
       "</style>\n",
       "<table border=\"1\" class=\"dataframe\">\n",
       "  <thead>\n",
       "    <tr style=\"text-align: right;\">\n",
       "      <th></th>\n",
       "      <th>Title</th>\n",
       "      <th>Developers</th>\n",
       "      <th>Summary</th>\n",
       "      <th>Platforms</th>\n",
       "      <th>Genres</th>\n",
       "      <th>Img</th>\n",
       "      <th>Link</th>\n",
       "    </tr>\n",
       "  </thead>\n",
       "  <tbody>\n",
       "    <tr>\n",
       "      <th>0</th>\n",
       "      <td>The Legend of Zelda: Breath of the Wild</td>\n",
       "      <td>['Nintendo', 'Nintendo EPD Production Group No...</td>\n",
       "      <td>The Legend of Zelda: Breath of the Wild is the...</td>\n",
       "      <td>['Wii U', 'Nintendo Switch']</td>\n",
       "      <td>['Adventure', 'Puzzle']</td>\n",
       "      <td>https://images.igdb.com/igdb/image/upload/t_co...</td>\n",
       "      <td>https://www.backloggd.com//games/the-legend-of...</td>\n",
       "    </tr>\n",
       "    <tr>\n",
       "      <th>1</th>\n",
       "      <td>Minecraft</td>\n",
       "      <td>['Mojang Studios']</td>\n",
       "      <td>Minecraft focuses on allowing the player to ex...</td>\n",
       "      <td>['Windows PC', 'Mac', 'Linux']</td>\n",
       "      <td>['Adventure', 'Simulator']</td>\n",
       "      <td>https://images.igdb.com/igdb/image/upload/t_co...</td>\n",
       "      <td>https://www.backloggd.com//games/minecraft/</td>\n",
       "    </tr>\n",
       "    <tr>\n",
       "      <th>2</th>\n",
       "      <td>Minecraft</td>\n",
       "      <td>['Mojang Studios']</td>\n",
       "      <td>Minecraft focuses on allowing the player to ex...</td>\n",
       "      <td>['Windows PC', 'Mac', 'Linux']</td>\n",
       "      <td>['Adventure', 'Simulator']</td>\n",
       "      <td>https://images.igdb.com/igdb/image/upload/t_co...</td>\n",
       "      <td>https://www.backloggd.com//games/minecraft--1/</td>\n",
       "    </tr>\n",
       "    <tr>\n",
       "      <th>3</th>\n",
       "      <td>Minecraft</td>\n",
       "      <td>['Mojang Studios']</td>\n",
       "      <td>Minecraft focuses on allowing the player to ex...</td>\n",
       "      <td>['Windows PC', 'Android', 'PlayStation 4', 'iO...</td>\n",
       "      <td>['Adventure', 'Simulator']</td>\n",
       "      <td>https://images.igdb.com/igdb/image/upload/t_co...</td>\n",
       "      <td>https://www.backloggd.com//games/minecraft/</td>\n",
       "    </tr>\n",
       "    <tr>\n",
       "      <th>4</th>\n",
       "      <td>Minecraft</td>\n",
       "      <td>['Mojang Studios']</td>\n",
       "      <td>Minecraft focuses on allowing the player to ex...</td>\n",
       "      <td>['Windows PC', 'Android', 'PlayStation 4', 'iO...</td>\n",
       "      <td>['Adventure', 'Simulator']</td>\n",
       "      <td>https://images.igdb.com/igdb/image/upload/t_co...</td>\n",
       "      <td>https://www.backloggd.com//games/minecraft--1/</td>\n",
       "    </tr>\n",
       "  </tbody>\n",
       "</table>\n",
       "</div>"
      ],
      "text/plain": [
       "                                     Title  \\\n",
       "0  The Legend of Zelda: Breath of the Wild   \n",
       "1                                Minecraft   \n",
       "2                                Minecraft   \n",
       "3                                Minecraft   \n",
       "4                                Minecraft   \n",
       "\n",
       "                                          Developers  \\\n",
       "0  ['Nintendo', 'Nintendo EPD Production Group No...   \n",
       "1                                 ['Mojang Studios']   \n",
       "2                                 ['Mojang Studios']   \n",
       "3                                 ['Mojang Studios']   \n",
       "4                                 ['Mojang Studios']   \n",
       "\n",
       "                                             Summary  \\\n",
       "0  The Legend of Zelda: Breath of the Wild is the...   \n",
       "1  Minecraft focuses on allowing the player to ex...   \n",
       "2  Minecraft focuses on allowing the player to ex...   \n",
       "3  Minecraft focuses on allowing the player to ex...   \n",
       "4  Minecraft focuses on allowing the player to ex...   \n",
       "\n",
       "                                           Platforms  \\\n",
       "0                       ['Wii U', 'Nintendo Switch']   \n",
       "1                     ['Windows PC', 'Mac', 'Linux']   \n",
       "2                     ['Windows PC', 'Mac', 'Linux']   \n",
       "3  ['Windows PC', 'Android', 'PlayStation 4', 'iO...   \n",
       "4  ['Windows PC', 'Android', 'PlayStation 4', 'iO...   \n",
       "\n",
       "                       Genres  \\\n",
       "0     ['Adventure', 'Puzzle']   \n",
       "1  ['Adventure', 'Simulator']   \n",
       "2  ['Adventure', 'Simulator']   \n",
       "3  ['Adventure', 'Simulator']   \n",
       "4  ['Adventure', 'Simulator']   \n",
       "\n",
       "                                                 Img  \\\n",
       "0  https://images.igdb.com/igdb/image/upload/t_co...   \n",
       "1  https://images.igdb.com/igdb/image/upload/t_co...   \n",
       "2  https://images.igdb.com/igdb/image/upload/t_co...   \n",
       "3  https://images.igdb.com/igdb/image/upload/t_co...   \n",
       "4  https://images.igdb.com/igdb/image/upload/t_co...   \n",
       "\n",
       "                                                Link  \n",
       "0  https://www.backloggd.com//games/the-legend-of...  \n",
       "1        https://www.backloggd.com//games/minecraft/  \n",
       "2     https://www.backloggd.com//games/minecraft--1/  \n",
       "3        https://www.backloggd.com//games/minecraft/  \n",
       "4     https://www.backloggd.com//games/minecraft--1/  "
      ]
     },
     "execution_count": 21,
     "metadata": {},
     "output_type": "execute_result"
    }
   ],
   "source": [
    "df.drop('Unnamed: 0',axis=1,inplace=True)\n",
    "df.head()"
   ]
  },
  {
   "cell_type": "code",
   "execution_count": 22,
   "metadata": {},
   "outputs": [],
   "source": [
    "df = df.drop_duplicates(subset='Title')"
   ]
  },
  {
   "cell_type": "code",
   "execution_count": 23,
   "metadata": {},
   "outputs": [
    {
     "data": {
      "text/plain": [
       "0"
      ]
     },
     "execution_count": 23,
     "metadata": {},
     "output_type": "execute_result"
    }
   ],
   "source": [
    "df.duplicated().sum()"
   ]
  },
  {
   "cell_type": "code",
   "execution_count": 24,
   "metadata": {},
   "outputs": [
    {
     "data": {
      "text/plain": [
       "(3524, 7)"
      ]
     },
     "execution_count": 24,
     "metadata": {},
     "output_type": "execute_result"
    }
   ],
   "source": [
    "df.shape"
   ]
  },
  {
   "cell_type": "code",
   "execution_count": 25,
   "metadata": {},
   "outputs": [],
   "source": [
    "df['Summary'] = df['Summary'].str.split()\n"
   ]
  },
  {
   "cell_type": "code",
   "execution_count": 26,
   "metadata": {},
   "outputs": [
    {
     "data": {
      "text/plain": [
       "Index(['Title', 'Developers', 'Summary', 'Platforms', 'Genres', 'Img', 'Link'], dtype='object')"
      ]
     },
     "execution_count": 26,
     "metadata": {},
     "output_type": "execute_result"
    }
   ],
   "source": [
    "df.columns"
   ]
  },
  {
   "cell_type": "code",
   "execution_count": 27,
   "metadata": {},
   "outputs": [],
   "source": [
    "import ast\n",
    "def convert(value):\n",
    "    value = ast.literal_eval(value)\n",
    "    return value"
   ]
  },
  {
   "cell_type": "code",
   "execution_count": 28,
   "metadata": {},
   "outputs": [],
   "source": [
    "df['Genres'] = df['Genres'].apply(convert)\n"
   ]
  },
  {
   "cell_type": "code",
   "execution_count": 29,
   "metadata": {},
   "outputs": [],
   "source": [
    "df['Developers']= df['Developers'].apply(convert)"
   ]
  },
  {
   "cell_type": "code",
   "execution_count": 30,
   "metadata": {},
   "outputs": [],
   "source": [
    "df['Platforms']= df['Platforms'].apply(convert)"
   ]
  },
  {
   "cell_type": "code",
   "execution_count": 31,
   "metadata": {},
   "outputs": [],
   "source": [
    "df['tags'] = df['Summary']+df['Developers']+df['Platforms']+df['Genres']"
   ]
  },
  {
   "cell_type": "code",
   "execution_count": 32,
   "metadata": {},
   "outputs": [],
   "source": [
    "df['tags'] = df['tags'].str.join(' ')"
   ]
  },
  {
   "cell_type": "code",
   "execution_count": 33,
   "metadata": {},
   "outputs": [
    {
     "data": {
      "text/html": [
       "<div>\n",
       "<style scoped>\n",
       "    .dataframe tbody tr th:only-of-type {\n",
       "        vertical-align: middle;\n",
       "    }\n",
       "\n",
       "    .dataframe tbody tr th {\n",
       "        vertical-align: top;\n",
       "    }\n",
       "\n",
       "    .dataframe thead th {\n",
       "        text-align: right;\n",
       "    }\n",
       "</style>\n",
       "<table border=\"1\" class=\"dataframe\">\n",
       "  <thead>\n",
       "    <tr style=\"text-align: right;\">\n",
       "      <th></th>\n",
       "      <th>Title</th>\n",
       "      <th>Developers</th>\n",
       "      <th>Summary</th>\n",
       "      <th>Platforms</th>\n",
       "      <th>Genres</th>\n",
       "      <th>Img</th>\n",
       "      <th>Link</th>\n",
       "      <th>tags</th>\n",
       "    </tr>\n",
       "  </thead>\n",
       "  <tbody>\n",
       "    <tr>\n",
       "      <th>0</th>\n",
       "      <td>The Legend of Zelda: Breath of the Wild</td>\n",
       "      <td>[Nintendo, Nintendo EPD Production Group No. 3]</td>\n",
       "      <td>[The, Legend, of, Zelda:, Breath, of, the, Wil...</td>\n",
       "      <td>[Wii U, Nintendo Switch]</td>\n",
       "      <td>[Adventure, Puzzle]</td>\n",
       "      <td>https://images.igdb.com/igdb/image/upload/t_co...</td>\n",
       "      <td>https://www.backloggd.com//games/the-legend-of...</td>\n",
       "      <td>The Legend of Zelda: Breath of the Wild is the...</td>\n",
       "    </tr>\n",
       "    <tr>\n",
       "      <th>1</th>\n",
       "      <td>Minecraft</td>\n",
       "      <td>[Mojang Studios]</td>\n",
       "      <td>[Minecraft, focuses, on, allowing, the, player...</td>\n",
       "      <td>[Windows PC, Mac, Linux]</td>\n",
       "      <td>[Adventure, Simulator]</td>\n",
       "      <td>https://images.igdb.com/igdb/image/upload/t_co...</td>\n",
       "      <td>https://www.backloggd.com//games/minecraft/</td>\n",
       "      <td>Minecraft focuses on allowing the player to ex...</td>\n",
       "    </tr>\n",
       "    <tr>\n",
       "      <th>5</th>\n",
       "      <td>Undertale</td>\n",
       "      <td>[tobyfox, 8-4]</td>\n",
       "      <td>[A, small, child, falls, into, the, Undergroun...</td>\n",
       "      <td>[Windows PC, Mac, Linux, PlayStation 4, Xbox O...</td>\n",
       "      <td>[Adventure, Indie, RPG, Turn Based Strategy]</td>\n",
       "      <td>https://images.igdb.com/igdb/image/upload/t_co...</td>\n",
       "      <td>https://www.backloggd.com//games/undertale/</td>\n",
       "      <td>A small child falls into the Underground, wher...</td>\n",
       "    </tr>\n",
       "    <tr>\n",
       "      <th>6</th>\n",
       "      <td>Portal 2</td>\n",
       "      <td>[Electronic Arts, Valve]</td>\n",
       "      <td>[Sequel, to, the, acclaimed, Portal, (2007),, ...</td>\n",
       "      <td>[Windows PC, Mac, Xbox 360, Linux, PlayStation 3]</td>\n",
       "      <td>[Adventure, Platform, Puzzle, Shooter]</td>\n",
       "      <td>https://images.igdb.com/igdb/image/upload/t_co...</td>\n",
       "      <td>https://www.backloggd.com//games/portal-2/</td>\n",
       "      <td>Sequel to the acclaimed Portal (2007), Portal ...</td>\n",
       "    </tr>\n",
       "    <tr>\n",
       "      <th>7</th>\n",
       "      <td>Hollow Knight</td>\n",
       "      <td>[Team Cherry]</td>\n",
       "      <td>[A, 2D, metroidvania, with, an, emphasis, on, ...</td>\n",
       "      <td>[Windows PC, Mac, Linux, Nintendo Switch]</td>\n",
       "      <td>[Adventure, Indie, Platform]</td>\n",
       "      <td>https://images.igdb.com/igdb/image/upload/t_co...</td>\n",
       "      <td>https://www.backloggd.com//games/hollow-knight/</td>\n",
       "      <td>A 2D metroidvania with an emphasis on close co...</td>\n",
       "    </tr>\n",
       "  </tbody>\n",
       "</table>\n",
       "</div>"
      ],
      "text/plain": [
       "                                     Title  \\\n",
       "0  The Legend of Zelda: Breath of the Wild   \n",
       "1                                Minecraft   \n",
       "5                                Undertale   \n",
       "6                                 Portal 2   \n",
       "7                            Hollow Knight   \n",
       "\n",
       "                                        Developers  \\\n",
       "0  [Nintendo, Nintendo EPD Production Group No. 3]   \n",
       "1                                 [Mojang Studios]   \n",
       "5                                   [tobyfox, 8-4]   \n",
       "6                         [Electronic Arts, Valve]   \n",
       "7                                    [Team Cherry]   \n",
       "\n",
       "                                             Summary  \\\n",
       "0  [The, Legend, of, Zelda:, Breath, of, the, Wil...   \n",
       "1  [Minecraft, focuses, on, allowing, the, player...   \n",
       "5  [A, small, child, falls, into, the, Undergroun...   \n",
       "6  [Sequel, to, the, acclaimed, Portal, (2007),, ...   \n",
       "7  [A, 2D, metroidvania, with, an, emphasis, on, ...   \n",
       "\n",
       "                                           Platforms  \\\n",
       "0                           [Wii U, Nintendo Switch]   \n",
       "1                           [Windows PC, Mac, Linux]   \n",
       "5  [Windows PC, Mac, Linux, PlayStation 4, Xbox O...   \n",
       "6  [Windows PC, Mac, Xbox 360, Linux, PlayStation 3]   \n",
       "7          [Windows PC, Mac, Linux, Nintendo Switch]   \n",
       "\n",
       "                                         Genres  \\\n",
       "0                           [Adventure, Puzzle]   \n",
       "1                        [Adventure, Simulator]   \n",
       "5  [Adventure, Indie, RPG, Turn Based Strategy]   \n",
       "6        [Adventure, Platform, Puzzle, Shooter]   \n",
       "7                  [Adventure, Indie, Platform]   \n",
       "\n",
       "                                                 Img  \\\n",
       "0  https://images.igdb.com/igdb/image/upload/t_co...   \n",
       "1  https://images.igdb.com/igdb/image/upload/t_co...   \n",
       "5  https://images.igdb.com/igdb/image/upload/t_co...   \n",
       "6  https://images.igdb.com/igdb/image/upload/t_co...   \n",
       "7  https://images.igdb.com/igdb/image/upload/t_co...   \n",
       "\n",
       "                                                Link  \\\n",
       "0  https://www.backloggd.com//games/the-legend-of...   \n",
       "1        https://www.backloggd.com//games/minecraft/   \n",
       "5        https://www.backloggd.com//games/undertale/   \n",
       "6         https://www.backloggd.com//games/portal-2/   \n",
       "7    https://www.backloggd.com//games/hollow-knight/   \n",
       "\n",
       "                                                tags  \n",
       "0  The Legend of Zelda: Breath of the Wild is the...  \n",
       "1  Minecraft focuses on allowing the player to ex...  \n",
       "5  A small child falls into the Underground, wher...  \n",
       "6  Sequel to the acclaimed Portal (2007), Portal ...  \n",
       "7  A 2D metroidvania with an emphasis on close co...  "
      ]
     },
     "execution_count": 33,
     "metadata": {},
     "output_type": "execute_result"
    }
   ],
   "source": [
    "df.head()"
   ]
  },
  {
   "cell_type": "code",
   "execution_count": 34,
   "metadata": {},
   "outputs": [],
   "source": [
    "import nltk\n",
    "from nltk.stem import PorterStemmer\n",
    "import re"
   ]
  },
  {
   "cell_type": "code",
   "execution_count": 35,
   "metadata": {},
   "outputs": [],
   "source": [
    "stemmer = PorterStemmer()"
   ]
  },
  {
   "cell_type": "code",
   "execution_count": 36,
   "metadata": {},
   "outputs": [],
   "source": [
    "corpus = []\n",
    "for i in df['tags']:\n",
    "    data = re.sub('[^A-Za-z0-9\\s]','',i)\n",
    "    data = data.lower()\n",
    "    data = data.split()\n",
    "    data = [stemmer.stem(i) for i in data]\n",
    "    data = ' '.join(data)\n",
    "    corpus.append(data)"
   ]
  },
  {
   "cell_type": "code",
   "execution_count": 37,
   "metadata": {},
   "outputs": [
    {
     "data": {
      "text/plain": [
       "'the legend of zelda breath of the wild is the first 3d openworld game in the zelda seri link can travel anywher and be equip with weapon and armor found throughout the world to grant him variou bonus unlik mani game in the seri breath of the wild doe not impos a specif order in which quest or dungeon must be complet while the game still ha environment obstacl such as weather effect inhospit land or power enemi mani of them can be overcom use the right method a lot of critic rank breath of the wild as one of the best video game of all time nintendo nintendo epd product group no 3 wii u nintendo switch adventur puzzl'"
      ]
     },
     "execution_count": 37,
     "metadata": {},
     "output_type": "execute_result"
    }
   ],
   "source": [
    "corpus[0]"
   ]
  },
  {
   "cell_type": "code",
   "execution_count": 38,
   "metadata": {},
   "outputs": [],
   "source": [
    "from sklearn.feature_extraction.text import CountVectorizer\n",
    "cv = CountVectorizer(max_features =5000,stop_words='english')\n",
    "vector= cv.fit_transform(corpus).toarray()"
   ]
  },
  {
   "cell_type": "code",
   "execution_count": 39,
   "metadata": {},
   "outputs": [
    {
     "data": {
      "text/plain": [
       "(3524, 5000)"
      ]
     },
     "execution_count": 39,
     "metadata": {},
     "output_type": "execute_result"
    }
   ],
   "source": [
    "vector.shape"
   ]
  },
  {
   "cell_type": "code",
   "execution_count": 40,
   "metadata": {},
   "outputs": [
    {
     "name": "stderr",
     "output_type": "stream",
     "text": [
      "e:\\DS And Python\\Data Science\\Project\\Video Game Recommendation System\\venv\\lib\\site-packages\\sklearn\\utils\\extmath.py:193: RuntimeWarning: invalid value encountered in matmul\n",
      "  ret = a @ b\n"
     ]
    }
   ],
   "source": [
    "from sklearn.metrics.pairwise import cosine_similarity\n",
    "similarity = cosine_similarity(vector)"
   ]
  },
  {
   "cell_type": "code",
   "execution_count": 41,
   "metadata": {},
   "outputs": [
    {
     "data": {
      "text/plain": [
       "(3524, 3524)"
      ]
     },
     "execution_count": 41,
     "metadata": {},
     "output_type": "execute_result"
    }
   ],
   "source": [
    "similarity.shape"
   ]
  },
  {
   "cell_type": "code",
   "execution_count": 42,
   "metadata": {},
   "outputs": [
    {
     "name": "stdout",
     "output_type": "stream",
     "text": [
      "The Legend of Zelda: A Link Between Worlds\n",
      "Hyrule Warriors: Definitive Edition\n",
      "The Legend of Zelda: Ocarina of Time\n",
      "The Legend of Zelda: Twilight Princess\n",
      "Zelda II: The Adventure of Link\n",
      "The Legend of Zelda: Tri Force Heroes\n",
      "The Legend of Zelda: Tears of the Kingdom\n",
      "The Legend of Zelda: A Link to the Past\n",
      "The Legend of Zelda: Majora's Mask\n",
      "The Legend of Zelda: The Wind Waker\n"
     ]
    }
   ],
   "source": [
    "sample = sorted(list(enumerate(similarity[0])),key = lambda x:x[1],reverse=True)[1:11]\n",
    "for i in sample:\n",
    "    print(df.iloc[i[0],[0]].values[0])\n"
   ]
  },
  {
   "cell_type": "code",
   "execution_count": 43,
   "metadata": {},
   "outputs": [],
   "source": [
    "def recommend(value):\n",
    "    index = df[df['Title']== value].index[0]\n",
    "    distance = similarity[index]\n",
    "    games = sorted(list(enumerate(distance)),key = lambda x:x[1],reverse=True)[1:11]\n",
    "    for i in games:\n",
    "        print(df.iloc[i[0]][0])\n",
    "\n",
    "    \n",
    "    "
   ]
  },
  {
   "cell_type": "code",
   "execution_count": 44,
   "metadata": {},
   "outputs": [
    {
     "name": "stdout",
     "output_type": "stream",
     "text": [
      "Fire Emblem Fates: Conquest\n",
      "Fire Emblem Fates: Birthright\n",
      "Fire Emblem Fates: Revelation\n",
      "True Crime: Streets of LA\n",
      "Metroid: Zero Mission\n",
      "Medal of Honor: European Assault\n",
      "Ace Combat 3: Electrosphere\n",
      "Fire Emblem Warriors: Three Hopes\n",
      "Thief Gold\n",
      "Fire Emblem: The Sacred Stones\n"
     ]
    }
   ],
   "source": [
    "recommend('Hyrule Warriors: Definitive Edition')"
   ]
  },
  {
   "cell_type": "code",
   "execution_count": 45,
   "metadata": {},
   "outputs": [],
   "source": [
    "import pickle"
   ]
  },
  {
   "cell_type": "code",
   "execution_count": 46,
   "metadata": {},
   "outputs": [],
   "source": [
    "with open('dataset.pkl','wb') as file:\n",
    "    pickle.dump(df,file)\n",
    "\n",
    "with open('similarity.pkl','wb') as file:\n",
    "    pickle.dump(similarity,file)\n",
    "\n"
   ]
  },
  {
   "cell_type": "code",
   "execution_count": 48,
   "metadata": {},
   "outputs": [
    {
     "data": {
      "text/html": [
       "<div>\n",
       "<style scoped>\n",
       "    .dataframe tbody tr th:only-of-type {\n",
       "        vertical-align: middle;\n",
       "    }\n",
       "\n",
       "    .dataframe tbody tr th {\n",
       "        vertical-align: top;\n",
       "    }\n",
       "\n",
       "    .dataframe thead th {\n",
       "        text-align: right;\n",
       "    }\n",
       "</style>\n",
       "<table border=\"1\" class=\"dataframe\">\n",
       "  <thead>\n",
       "    <tr style=\"text-align: right;\">\n",
       "      <th></th>\n",
       "      <th>Title</th>\n",
       "      <th>Developers</th>\n",
       "      <th>Summary</th>\n",
       "      <th>Platforms</th>\n",
       "      <th>Genres</th>\n",
       "      <th>Img</th>\n",
       "      <th>Link</th>\n",
       "      <th>tags</th>\n",
       "    </tr>\n",
       "  </thead>\n",
       "  <tbody>\n",
       "    <tr>\n",
       "      <th>4727</th>\n",
       "      <td>Star Wars: The Old Republic</td>\n",
       "      <td>[Electronic Arts, BioWare Austin]</td>\n",
       "      <td>[Step, in, to, the, center, of, your, own, Sta...</td>\n",
       "      <td>[Windows PC]</td>\n",
       "      <td>[RPG]</td>\n",
       "      <td>https://images.igdb.com/igdb/image/upload/t_co...</td>\n",
       "      <td>https://www.backloggd.com//games/star-wars-the...</td>\n",
       "      <td>Step in to the center of your own Star Wars st...</td>\n",
       "    </tr>\n",
       "    <tr>\n",
       "      <th>4728</th>\n",
       "      <td>The Long Dark</td>\n",
       "      <td>[Hinterland Studio Inc.]</td>\n",
       "      <td>[Welcome, to, The, Long, Dark,, the, innovativ...</td>\n",
       "      <td>[Windows PC, Mac, Linux, PlayStation 4, Xbox O...</td>\n",
       "      <td>[Adventure, Indie, Shooter, Simulator, Strategy]</td>\n",
       "      <td>https://images.igdb.com/igdb/image/upload/t_co...</td>\n",
       "      <td>https://www.backloggd.com//games/the-long-dark/</td>\n",
       "      <td>Welcome to The Long Dark, the innovative explo...</td>\n",
       "    </tr>\n",
       "    <tr>\n",
       "      <th>4729</th>\n",
       "      <td>Killzone: Shadow Fall</td>\n",
       "      <td>[Guerrilla Games, Sony Computer Entertainment]</td>\n",
       "      <td>[Killzone, Shadow, Fall, is, the, sixth, game,...</td>\n",
       "      <td>[PlayStation 4]</td>\n",
       "      <td>[Shooter]</td>\n",
       "      <td>https://images.igdb.com/igdb/image/upload/t_co...</td>\n",
       "      <td>https://www.backloggd.com//games/killzone-shad...</td>\n",
       "      <td>Killzone Shadow Fall is the sixth game of the ...</td>\n",
       "    </tr>\n",
       "    <tr>\n",
       "      <th>4730</th>\n",
       "      <td>Gauntlet Dark Legacy</td>\n",
       "      <td>[Midway Games West, Midway Games]</td>\n",
       "      <td>[Gauntlet, Dark, Legacy, is, the, follow-up, t...</td>\n",
       "      <td>[Nintendo GameCube, Xbox, Arcade, PlayStation 2]</td>\n",
       "      <td>[Brawler]</td>\n",
       "      <td>https://images.igdb.com/igdb/image/upload/t_co...</td>\n",
       "      <td>https://www.backloggd.com//games/gauntlet-dark...</td>\n",
       "      <td>Gauntlet Dark Legacy is the follow-up to Gaunt...</td>\n",
       "    </tr>\n",
       "    <tr>\n",
       "      <th>4731</th>\n",
       "      <td>Evoland 2</td>\n",
       "      <td>[Playdigious, Shiro Games]</td>\n",
       "      <td>[Evoland, 2, is, the, spiritual, successor, to...</td>\n",
       "      <td>[Windows PC, Android, Mac, iOS]</td>\n",
       "      <td>[Adventure, Brawler, Fighting, Indie, Music, P...</td>\n",
       "      <td>https://images.igdb.com/igdb/image/upload/t_co...</td>\n",
       "      <td>https://www.backloggd.com//games/evoland-2/</td>\n",
       "      <td>Evoland 2 is the spiritual successor to the or...</td>\n",
       "    </tr>\n",
       "  </tbody>\n",
       "</table>\n",
       "</div>"
      ],
      "text/plain": [
       "                            Title  \\\n",
       "4727  Star Wars: The Old Republic   \n",
       "4728                The Long Dark   \n",
       "4729        Killzone: Shadow Fall   \n",
       "4730         Gauntlet Dark Legacy   \n",
       "4731                    Evoland 2   \n",
       "\n",
       "                                          Developers  \\\n",
       "4727               [Electronic Arts, BioWare Austin]   \n",
       "4728                        [Hinterland Studio Inc.]   \n",
       "4729  [Guerrilla Games, Sony Computer Entertainment]   \n",
       "4730               [Midway Games West, Midway Games]   \n",
       "4731                      [Playdigious, Shiro Games]   \n",
       "\n",
       "                                                Summary  \\\n",
       "4727  [Step, in, to, the, center, of, your, own, Sta...   \n",
       "4728  [Welcome, to, The, Long, Dark,, the, innovativ...   \n",
       "4729  [Killzone, Shadow, Fall, is, the, sixth, game,...   \n",
       "4730  [Gauntlet, Dark, Legacy, is, the, follow-up, t...   \n",
       "4731  [Evoland, 2, is, the, spiritual, successor, to...   \n",
       "\n",
       "                                              Platforms  \\\n",
       "4727                                       [Windows PC]   \n",
       "4728  [Windows PC, Mac, Linux, PlayStation 4, Xbox O...   \n",
       "4729                                    [PlayStation 4]   \n",
       "4730   [Nintendo GameCube, Xbox, Arcade, PlayStation 2]   \n",
       "4731                    [Windows PC, Android, Mac, iOS]   \n",
       "\n",
       "                                                 Genres  \\\n",
       "4727                                              [RPG]   \n",
       "4728   [Adventure, Indie, Shooter, Simulator, Strategy]   \n",
       "4729                                          [Shooter]   \n",
       "4730                                          [Brawler]   \n",
       "4731  [Adventure, Brawler, Fighting, Indie, Music, P...   \n",
       "\n",
       "                                                    Img  \\\n",
       "4727  https://images.igdb.com/igdb/image/upload/t_co...   \n",
       "4728  https://images.igdb.com/igdb/image/upload/t_co...   \n",
       "4729  https://images.igdb.com/igdb/image/upload/t_co...   \n",
       "4730  https://images.igdb.com/igdb/image/upload/t_co...   \n",
       "4731  https://images.igdb.com/igdb/image/upload/t_co...   \n",
       "\n",
       "                                                   Link  \\\n",
       "4727  https://www.backloggd.com//games/star-wars-the...   \n",
       "4728    https://www.backloggd.com//games/the-long-dark/   \n",
       "4729  https://www.backloggd.com//games/killzone-shad...   \n",
       "4730  https://www.backloggd.com//games/gauntlet-dark...   \n",
       "4731        https://www.backloggd.com//games/evoland-2/   \n",
       "\n",
       "                                                   tags  \n",
       "4727  Step in to the center of your own Star Wars st...  \n",
       "4728  Welcome to The Long Dark, the innovative explo...  \n",
       "4729  Killzone Shadow Fall is the sixth game of the ...  \n",
       "4730  Gauntlet Dark Legacy is the follow-up to Gaunt...  \n",
       "4731  Evoland 2 is the spiritual successor to the or...  "
      ]
     },
     "execution_count": 48,
     "metadata": {},
     "output_type": "execute_result"
    }
   ],
   "source": [
    "df.tail()"
   ]
  },
  {
   "cell_type": "code",
   "execution_count": null,
   "metadata": {},
   "outputs": [],
   "source": []
  },
  {
   "cell_type": "code",
   "execution_count": null,
   "metadata": {},
   "outputs": [],
   "source": []
  }
 ],
 "metadata": {
  "kernelspec": {
   "display_name": "venv",
   "language": "python",
   "name": "python3"
  },
  "language_info": {
   "codemirror_mode": {
    "name": "ipython",
    "version": 3
   },
   "file_extension": ".py",
   "mimetype": "text/x-python",
   "name": "python",
   "nbconvert_exporter": "python",
   "pygments_lexer": "ipython3",
   "version": "3.10.9"
  },
  "orig_nbformat": 4
 },
 "nbformat": 4,
 "nbformat_minor": 2
}
